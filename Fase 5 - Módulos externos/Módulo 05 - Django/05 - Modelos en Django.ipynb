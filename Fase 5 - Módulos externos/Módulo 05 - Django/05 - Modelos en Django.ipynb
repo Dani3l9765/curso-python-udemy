{
 "cells": [
  {
   "cell_type": "markdown",
   "id": "50c5d2ae",
   "metadata": {},
   "source": [
    "# Modelos en Django\n",
    "\n",
    "En esta lección introduciremos los modelos, unas clases donde se define la estructura de los datos para almacenarlos en la base de datos. \n",
    "\n",
    "Nosotros vamos a crear un **blog** muy sencillo así que necesitamos almacenar las entradas. Estas entradas estarán formadas por varios campos, por ejemplo un título y un contenido:\n",
    "\n",
    "`blog/models.py`\n",
    "\n",
    "```python\n",
    "from django.db import models\n",
    "\n",
    "class Post(models.Model):\n",
    "    title = models.CharField(max_length=200)\n",
    "    content = models.TextField()\n",
    "```\n",
    "\n",
    "Una vez tenemos el modelo, que es como la estructura de una tabla en  la base de datos, tendremos que crear una migración con un registro de los cambios:\n",
    "\n",
    "```bash\n",
    "> pipenv run python manage.py makemigrations\n",
    "```\n",
    "\n",
    "Una vez hecha la migración tenemos que aplicar los cambios en la base de datos:\n",
    "\n",
    "```bash\n",
    "> pipenv run python manage.py migrate\n",
    "```\n",
    "\n",
    "Al ser la primera vez que migramos y al tener activadas las apps genéricas del admin, autenticación y sesiones se van a crear un montón de campos en la base de datos.\n",
    "\n",
    "La base de datos la encontraremos en la raíz del proyecto con el nombre `db.sqlite3`. Este fichero se puede consultar y editar con un programa como [DB Browser for SQLite](https://sqlitebrowser.org/). Dentro encontraremos todas las tablas de la base de datos y sus registros. \n",
    "\n",
    "Sea como sea ya tenemos el modelo `Post` listo para empezar a añadir registro."
   ]
  },
  {
   "cell_type": "code",
   "execution_count": null,
   "id": "e7173857",
   "metadata": {},
   "outputs": [],
   "source": []
  }
 ],
 "metadata": {
  "kernelspec": {
   "display_name": "Python 3 (ipykernel)",
   "language": "python",
   "name": "python3"
  },
  "language_info": {
   "codemirror_mode": {
    "name": "ipython",
    "version": 3
   },
   "file_extension": ".py",
   "mimetype": "text/x-python",
   "name": "python",
   "nbconvert_exporter": "python",
   "pygments_lexer": "ipython3",
   "version": "3.10.5"
  }
 },
 "nbformat": 4,
 "nbformat_minor": 5
}

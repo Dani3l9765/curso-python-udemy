{
 "cells": [
  {
   "cell_type": "markdown",
   "id": "2ef16490",
   "metadata": {},
   "source": [
    "# Configuración previa\n",
    "\n",
    "Instalación de `requests` y `BeautifulSoup4`:\n",
    "\n",
    "```bash\n",
    "pip install requests bs4\n",
    "```\n",
    "\n",
    "También se pueden instalar desde el propio `Jupyter Notebook` con una exclamación delante:\n",
    "\n",
    "```bash\n",
    "!pip install requests bs4\n",
    "```"
   ]
  },
  {
   "cell_type": "code",
   "execution_count": null,
   "id": "23f48879",
   "metadata": {},
   "outputs": [],
   "source": []
  }
 ],
 "metadata": {
  "kernelspec": {
   "display_name": "Python 3 (ipykernel)",
   "language": "python",
   "name": "python3"
  },
  "language_info": {
   "codemirror_mode": {
    "name": "ipython",
    "version": 3
   },
   "file_extension": ".py",
   "mimetype": "text/x-python",
   "name": "python",
   "nbconvert_exporter": "python",
   "pygments_lexer": "ipython3",
   "version": "3.10.5"
  }
 },
 "nbformat": 4,
 "nbformat_minor": 5
}

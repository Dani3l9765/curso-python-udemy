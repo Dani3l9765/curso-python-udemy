{
 "cells": [
  {
   "cell_type": "markdown",
   "id": "6b7d27ad",
   "metadata": {},
   "source": [
    "# Web scraping\n",
    "\n",
    "El verbo \"scrape\" se puede traducir al español como raspar, rasgar, arañar, etc. Podemos llamarlo de mil formas pero la realidad es que \"scrapear\" una página web es el proceso de automatizar la  consulta y el subsiguiente tratamiento de su información.\n",
    "\n",
    "Es una práctica cuestionable a nivel ético por lo que implica su propia naturaleza. Por ejemplo los buscadores web se basan en este principio, automatizan redes de bots que navegan por las páginas, las analizan, copian sus metadatos y crean copias del contenido para indexarlo en sus motores de búsqueda. Precisamente ahí está el problema, copian literalmente el contenido. \n",
    "\n",
    "En España el servicio Google News cerró en 2014 tras aprobarse la antigua ley de protección intelectual. ¿El problema? Google tenía que pagar un canon a los periódicos digitales por replicar su contenido y como se negó prefirió cerrar el servicio. En 2022 el servicio ha vuelto porque la ley ya no es tan estricta y permite que cada periódico acuerde individualmente con Google lo que prefiera, pero es un ejemplo que refleja las implicaciones de utilizar el web scraping.\n",
    "\n",
    "Al final un programador experimentado puede crear un bot que literalmente copie cualquier sitio web, las tendencias de una red social, las preguntas y respuestas más destacadas de comunidades online o incluso descargar vídeos y sus comentarios para replicarlos en otros lugares. \n",
    "\n",
    "No lo olvidéis, esta tecnología es muy poderosa y como tal su uso conlleva una gran responsabilidad."
   ]
  },
  {
   "cell_type": "code",
   "execution_count": null,
   "id": "c4471c42",
   "metadata": {},
   "outputs": [],
   "source": []
  }
 ],
 "metadata": {
  "kernelspec": {
   "display_name": "Python 3 (ipykernel)",
   "language": "python",
   "name": "python3"
  },
  "language_info": {
   "codemirror_mode": {
    "name": "ipython",
    "version": 3
   },
   "file_extension": ".py",
   "mimetype": "text/x-python",
   "name": "python",
   "nbconvert_exporter": "python",
   "pygments_lexer": "ipython3",
   "version": "3.10.5"
  }
 },
 "nbformat": 4,
 "nbformat_minor": 5
}

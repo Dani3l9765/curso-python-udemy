{
 "cells": [
  {
   "cell_type": "markdown",
   "id": "6b7d27ad",
   "metadata": {},
   "source": [
    "# Web scraping\n",
    "\n",
    "Según el traductor de Google, el verbo \"scrape\" se puede traducir al español como raspar, rasgar, arañar, etc.\n",
    "\n",
    "Podemos llamarlo de mil formas pero la realidad es que \"scrapear\" una página web es el proceso de automatizar la  consulta y el subsiguiente tratamiento de su información.\n",
    "\n",
    "El web scraping es una práctica cuestionable a nivel ético por lo que implica su propia naturaleza y para ejemplo un botón. Los buscadores web se basan en este principio, automatizan redes de bots que navegan por las páginas web, las analizan, copian sus metadatos y crean copias del contenido para indexarlo en sus motores de búsqueda. \n",
    "\n",
    "Precisamente ahí está el problema, copian literalmente el contenido. En España, el servicio Google News cerró en 2014 porque tras aprobarse la antigua ley de protección intelectual, el buscador tenía que pagar un canon a los periódicos por replicar su contenido. Actualmente el servicio ha vuelto porque la ley no es tan estricta, pero es un ejemplo que deja entrever las implicaciones de utilizar el web scraping.\n",
    "\n",
    "La realidad es que un programador experimentado puede crear un bot que literalmente copie la wikipedia, o las tendencias de una red social como Twitter, las preguntas y respuestas más destacadas de comunidades como Stackoverflow o incluso descargar vídeos de Youtube y sus comentarios para replicarlos en otro portal. \n",
    "\n",
    "No lo olvidéis, el web scraping es un gran poder que conlleva una gran responsabilidad, se recomienda discreción."
   ]
  },
  {
   "cell_type": "code",
   "execution_count": null,
   "id": "c4471c42",
   "metadata": {},
   "outputs": [],
   "source": []
  }
 ],
 "metadata": {
  "kernelspec": {
   "display_name": "Python 3 (ipykernel)",
   "language": "python",
   "name": "python3"
  },
  "language_info": {
   "codemirror_mode": {
    "name": "ipython",
    "version": 3
   },
   "file_extension": ".py",
   "mimetype": "text/x-python",
   "name": "python",
   "nbconvert_exporter": "python",
   "pygments_lexer": "ipython3",
   "version": "3.10.5"
  }
 },
 "nbformat": 4,
 "nbformat_minor": 5
}

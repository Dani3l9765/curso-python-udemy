{
 "cells": [
  {
   "cell_type": "markdown",
   "id": "f58cff68",
   "metadata": {},
   "source": [
    "# Extendiendo la tortuga\n",
    "\n",
    "Algo que podemos hacer es crear nuevas funciones para nuestra `Turtuga` añadiendo otros métodos a la clase.\n",
    "\n",
    "Por ejemplo, un método `rectangulo` que tome una posición inicial para `x` e `y`, un `ancho`, un `alto` y un `color` optativo:"
   ]
  },
  {
   "cell_type": "code",
   "execution_count": null,
   "id": "0b8c926c",
   "metadata": {},
   "outputs": [],
   "source": [
    "from mobilechelonian import Turtle\n",
    "\n",
    "class Turtle(Turtle):\n",
    "    \n",
    "    def rectangulo(self, x, y, ancho, alto, color=\"black\"):\n",
    "        \n",
    "        self.speed(10)\n",
    "        self.pencolor(color)\n",
    "        \n",
    "        self.penup()\n",
    "        self.setposition(x+ancho/2, y+alto/2)\n",
    "        self.pendown()\n",
    "        \n",
    "        self.setposition(x-ancho/2, y+alto/2)\n",
    "        self.setposition(x-ancho/2, y-alto/2)\n",
    "        self.setposition(x+ancho/2, y-alto/2)\n",
    "        self.setposition(x+ancho/2, y+alto/2)\n",
    "        \n",
    "        \n",
    "kame = Turtle()\n",
    "kame.rectangulo(100, 100, 100, 100, color=\"red\")\n",
    "kame.rectangulo(200, 200, 100, 100, color=\"blue\")\n",
    "kame.rectangulo(300, 300, 100, 100, color=\"yellow\")"
   ]
  },
  {
   "cell_type": "markdown",
   "id": "fccf3aa0",
   "metadata": {},
   "source": [
    "Utilizando bucles podemos dibujar muchos cuadrados anidados de diferentes colores:"
   ]
  },
  {
   "cell_type": "code",
   "execution_count": null,
   "id": "436ff47e",
   "metadata": {},
   "outputs": [],
   "source": [
    "kame = Turtle()\n",
    "\n",
    "x, y = (200, 200)\n",
    "w, h = (40, 40)\n",
    "inc = 40\n",
    "\n",
    "for color in [\"yellow\", \"orange\",\"red\", \"brown\", \"purple\", \"blue\", \"cyan\", \"green\", \"black\"]:  \n",
    "    kame.rectangulo(x, y, w, h, color=color)\n",
    "    w += inc\n",
    "    h += inc"
   ]
  },
  {
   "cell_type": "markdown",
   "id": "0eccfef2",
   "metadata": {},
   "source": [
    "Vamos a añadir otro método, en esta ocasión para dibujar polígonos con un determinado número de lados en relación al centro del lienzo. Si os gustan las matemáticas, especialmente la geometría, esto os encantará:"
   ]
  },
  {
   "cell_type": "code",
   "execution_count": null,
   "id": "f97995ae",
   "metadata": {},
   "outputs": [],
   "source": [
    "import math\n",
    "from mobilechelonian import Turtle\n",
    "\n",
    "class Turtle(Turtle):\n",
    "    \n",
    "    def poligono(self, lados, radio, color=\"black\"):\n",
    "        \n",
    "        self.speed(10)\n",
    "        self.pencolor(color)\n",
    "        \n",
    "        # Calculamos el ángulo de cada porción\n",
    "        angulo = 2 * math.pi / lados\n",
    "        \n",
    "        # Calculamos la posición del primer vértice\n",
    "        # Radio por seno del ángulo para la X\n",
    "        # Radio por coseno del ángulo para la Y\n",
    "        # Sumamos el offset del centro del lienzo (200,200)\n",
    "        x = 200 + radio * math.sin(angulo)\n",
    "        y = 200 + radio * math.cos(angulo)\n",
    "        \n",
    "        # Posicionamos la tortuga sin dejar rastro y bajamos la pluma\n",
    "        self.penup()\n",
    "        self.setposition(x, y)\n",
    "        self.pendown()\n",
    "        \n",
    "        # Calculamos la posición de los siguientes vértices trazando las líneas\n",
    "        for i in range(lados+1):\n",
    "            x = 200 + radio * math.sin(i * angulo)\n",
    "            y = 200 + radio * math.cos(i * angulo)\n",
    "            self.setposition(x, y)\n",
    "            \n",
    "            \n",
    "kame = Turtle()\n",
    "kame.poligono(3, 50, color=\"red\")\n",
    "kame.poligono(4, 75, color=\"blue\")\n",
    "kame.poligono(6, 100, color=\"yellow\")"
   ]
  },
  {
   "cell_type": "markdown",
   "id": "e65bf2af",
   "metadata": {},
   "source": [
    "El siguiente es uno de mis dibujos favoritos, en él podemos apreciar que cuantos más lados tiene un polígono regular más se asemeja a un círculo:"
   ]
  },
  {
   "cell_type": "code",
   "execution_count": null,
   "id": "a3a4d939",
   "metadata": {},
   "outputs": [],
   "source": [
    "kame = Turtle()\n",
    "\n",
    "for n in range(3, 21):\n",
    "    kame.poligono(n, n*10)"
   ]
  },
  {
   "cell_type": "markdown",
   "id": "6999178d",
   "metadata": {},
   "source": [
    "Siempre cuento que este módulo me recuerda a un viejo juguete llamado **Telesketch** que me regalaron de niño. En él podías mover una especie de puntero imantado por una pantalla para dejar un rastro de arena a modo de dibujo. Os dejo un vídeo por si os pica la curiosidad:\n",
    "\n",
    "[![](https://img.youtube.com/vi/le-aNMSVpGo/0.jpg)](https://www.youtube.com/watch?v=le-aNMSVpGo)\n",
    "\n",
    "No os entretengo más, a fin de cuentas se trata de un módulo educativo, pero me parece divertido para visualizar conceptos de programación."
   ]
  },
  {
   "cell_type": "code",
   "execution_count": null,
   "id": "3d778fc2",
   "metadata": {},
   "outputs": [],
   "source": []
  }
 ],
 "metadata": {
  "kernelspec": {
   "display_name": "Python 3 (ipykernel)",
   "language": "python",
   "name": "python3"
  },
  "language_info": {
   "codemirror_mode": {
    "name": "ipython",
    "version": 3
   },
   "file_extension": ".py",
   "mimetype": "text/x-python",
   "name": "python",
   "nbconvert_exporter": "python",
   "pygments_lexer": "ipython3",
   "version": "3.10.5"
  }
 },
 "nbformat": 4,
 "nbformat_minor": 5
}

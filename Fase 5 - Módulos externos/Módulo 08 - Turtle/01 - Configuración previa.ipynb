{
 "cells": [
  {
   "cell_type": "markdown",
   "id": "8d989d7e",
   "metadata": {},
   "source": [
    "# Configuración previa\n",
    "\n",
    "El módulo Turtle se encuentra integrado en Python, sin embargo para la comodidad de todos vamos a instalar un paquete que nos permitirá juguetear con la tortuga en Jupyter Notebook. \n",
    "\n",
    "No es exactamente como la tortuga original pero nos permitirá hacer lo mismo aquí en nuestros blocs de notas:\n",
    "\n",
    "```bash\n",
    "pip install mobilechelonian\n",
    "```\n",
    "\n",
    "También se puede instalar desde el propio Jupyter Notebook con una exclamación delante:"
   ]
  },
  {
   "cell_type": "code",
   "execution_count": null,
   "id": "d7aef315",
   "metadata": {},
   "outputs": [],
   "source": [
    "!pip install mobilechelonian"
   ]
  }
 ],
 "metadata": {
  "kernelspec": {
   "display_name": "Python 3 (ipykernel)",
   "language": "python",
   "name": "python3"
  },
  "language_info": {
   "codemirror_mode": {
    "name": "ipython",
    "version": 3
   },
   "file_extension": ".py",
   "mimetype": "text/x-python",
   "name": "python",
   "nbconvert_exporter": "python",
   "pygments_lexer": "ipython3",
   "version": "3.10.5"
  }
 },
 "nbformat": 4,
 "nbformat_minor": 5
}

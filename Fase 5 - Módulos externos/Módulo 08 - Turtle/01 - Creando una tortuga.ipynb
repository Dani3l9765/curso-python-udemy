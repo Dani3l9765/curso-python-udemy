{
 "cells": [
  {
   "cell_type": "markdown",
   "id": "6ccb277b",
   "metadata": {},
   "source": [
    "# Creando una tortuga\n",
    "\n",
    "Una imagen vale más que mil palabras, por eso vamos a descubrir este genial módulo sobre la marcha mediante distintos ejemplos.\n",
    "\n",
    "Empecemos por lo más básico creando en un script una instancia de la clase `Turtle`:"
   ]
  },
  {
   "cell_type": "markdown",
   "id": "95d625b3",
   "metadata": {},
   "source": [
    "`1_tortuga.py`\n",
    "\n",
    "```python\n",
    "import turtle\n",
    "\n",
    "# Creamos una tortuga\n",
    "kame = turtle.Turtle()\n",
    "# Movemos la tortuga adelante\n",
    "kame.forward(100)\n",
    "# Iniciamos el bucle\n",
    "turtle.mainloop()\n",
    "```"
   ]
  },
  {
   "cell_type": "markdown",
   "id": "30380d22",
   "metadata": {},
   "source": [
    "Una tortuga es una pluma para dibujar gráficos primitivos, formas geométricas básicas. \n",
    "\n",
    "¿Pero por qué una tortuga? Imaginad este animal en medio de la arena, si se mueve dejará un rastro en la arena parecido a un dibujo, solo puede moverse hacia adelante y para cambiar la dirección debe rotar sobre sí misma."
   ]
  },
  {
   "cell_type": "markdown",
   "id": "6a11967d",
   "metadata": {},
   "source": [
    "## Métodos más comunes\n",
    "\n",
    "Según la [documentación oficial](https://docs.python.org/3/library/turtle.html#turtle-methods) algunos de los métodos más importantes:\n",
    "\n",
    "* `backward`: Mueve la tortuga hacia atrás una distancia.\n",
    "* `forward`: Mueve la tortuga hacia adelante una distancia.\n",
    "* `left`: Gira la tortuga una cantidad de grados a la izquierda.\n",
    "* `right`: Gira la tortuga una cantidad de grados a la derecha.\n",
    "* `color`: Cambia el color de la pluma, por defecto es negro.\n",
    "* `shape`: Cambia la forma de la pluma por alguna de las disponibles.\n",
    "* `pendown`: Baja la pluma, se inicia con la pluma bajada. \n",
    "* `penup`: Sube la pluma haciendo que no se pueda dibujar.\n",
    "* `pensize`: Cambia el tamaño de la línea en píxeles.\n",
    "* `speed`: Cambia la velocidad de la tortuga entre 1 y 10.\n",
    "* `goto`: Mueve la tortuga a una posición del canvas.\n",
    "* `home`: Mueve la tortuga a la posición inicial.\n",
    "* `pos`: Devuelve la coordenada actual de la tortuga.\n",
    "* `heading`: Devuelve la rotación de la tortuga en grados.\n",
    "* `setheading`: Establece la rotación absoluta de la tortuga en grados.\n",
    "* `circle`: Dibuja un círculo o parte de un círculo.\n",
    "\n",
    "Hay otros pero con estos ya podemos realizar todo tipo de dibujos.\n",
    "\n",
    "Para más información podemos consultar la ayuda del módulo:"
   ]
  },
  {
   "cell_type": "code",
   "execution_count": null,
   "id": "946da3a7",
   "metadata": {},
   "outputs": [],
   "source": [
    "import turtle \n",
    "\n",
    "help(turtle)"
   ]
  },
  {
   "cell_type": "markdown",
   "id": "c62e1e20",
   "metadata": {},
   "source": [
    "## Personalizando la pluma\n",
    "\n",
    "Por defecto la pluma es una flecha negra y tiene una velocidad alta, podemos personalizarla:\n",
    "\n",
    "```python\n",
    "# Cambiamos la forma\n",
    "kame.shape(\"turtle\")\n",
    "# Cambiamos el color\n",
    "kame.color(\"darkgreen\")\n",
    "# Cambiamos el tamaño\n",
    "kame.pensize(2)\n",
    "# Cambiamos la velocidad\n",
    "kame.speed(1)\n",
    "```"
   ]
  },
  {
   "cell_type": "markdown",
   "id": "1002b466",
   "metadata": {},
   "source": [
    "## Personalizando la ventana\n",
    "\n",
    "Para cambiar el título, el tamaño y el color de fondo de la ventana utilizaremos la clase `Screen`, idealmente al principio del programa:\n",
    "\n",
    "```python\n",
    "# Creamos una ventana\n",
    "window = turtle.Screen()\n",
    "# Establecemos el título\n",
    "window.title(\"Pruebas con turtle\")\n",
    "# Establecemos el color de fondo\n",
    "window.bgcolor(\"#68a0ed\")\n",
    "# Configuramos el tamaño\n",
    "window.setup(500, 500)\n",
    "```"
   ]
  },
  {
   "cell_type": "markdown",
   "id": "52427855",
   "metadata": {},
   "source": [
    "## Encadenando instrucciones\n",
    "\n",
    "Podemos encadenar diferentes instrucciones, de manera que la tortuga gire sobre sí misma y se vuelva a mover:"
   ]
  },
  {
   "cell_type": "markdown",
   "id": "2c8f8f50",
   "metadata": {},
   "source": [
    "```python\n",
    "# Adelante 100 pixels\n",
    "kame.forward(150)\n",
    "# Rotamos 90º a la izquierda\n",
    "kame.left(90)\n",
    "# Adelante 100 pixels\n",
    "kame.forward(150)\n",
    "# Volvemos al principio\n",
    "kame.home()\n",
    "```"
   ]
  },
  {
   "cell_type": "markdown",
   "id": "e58fa593",
   "metadata": {},
   "source": [
    "## Coordenada origen\n",
    "\n",
    "Si le indicamos a la tortuga que se dirija a la coordenada `(0,0)`, veamos donde se sitúa:"
   ]
  },
  {
   "cell_type": "markdown",
   "id": "7b0978f2",
   "metadata": {},
   "source": [
    "```python\n",
    "import turtle\n",
    "\n",
    "window = turtle.Screen()\n",
    "window.title(\"Pruebas con turtle\")\n",
    "window.bgcolor(\"#68a0ed\")\n",
    "window.setup(500, 500)\n",
    "\n",
    "kame = turtle.Turtle()\n",
    "kame.shape(\"turtle\")\n",
    "kame.color(\"darkgreen\")\n",
    "kame.speed(1)\n",
    "\n",
    "# Nos posicionamos en el origen\n",
    "kame.goto(0, 0)\n",
    "\n",
    "turtle.mainloop()\n",
    "```"
   ]
  },
  {
   "cell_type": "markdown",
   "id": "3fec0a2f",
   "metadata": {},
   "source": [
    "Como vemos se queda quieta, por tanto `(0,0)` es el centro de la ventana. \n",
    "\n",
    "Si le preguntamos por su poisición mediante la función `pos()` nos dará esos valores:\n",
    "\n",
    "```python\n",
    "# Nos posicionamos en el origen\n",
    "kame.goto(0, 0)\n",
    "# Preguntamos por su posición\n",
    "print(kame.pos())\n",
    "```\n",
    "\n",
    "```\n",
    "> (0.00,0.00)\n",
    "```\n",
    "\n",
    "## Cambiando el sistema de coordenadas\n",
    "\n",
    "Podemos personalizar la configuración del sistema utilizando la función [setworldcoordinates](https://docs.python.org/3.0/library/turtle.html#turtle.setworldcoordinates). \n",
    "\n",
    "Para configurar la esquina superior izquierda como el origen estableceríamos lo siguiente, **siempre después de configurar el tamaño**:\n",
    "\n",
    "```python\n",
    "window.setup(500, 500)\n",
    "# Cambiamos el eje de coordenadas\n",
    "window.setworldcoordinates(0, 500, 500, 0)\n",
    "```\n",
    "\n",
    "Dado que la ventana mide `500x500`, con esta nueva disposición del sistema es fácil configurar unas coordenadas para dibujar un cuadrado moviendo la tortuga a sus vértices:\n",
    "\n",
    "```python\n",
    "# Movemos la tortuga a los cuatro vértices\n",
    "kame.speed(2)\n",
    "kame.goto(250, 0)\n",
    "kame.goto(250, 250)\n",
    "kame.goto(0, 250\n",
    "kame.goto(0, 0)\n",
    "```\n",
    "\n",
    "## Levantando la pluma\n",
    "\n",
    "Para dibujar el cuadrado empezando desde una posición diferente del origen tenemos que levantar la pluma, posicionarnos en el primer vértice, bajar la pluma y empezar a dibujar:\n",
    "\n",
    "```python\n",
    "# Dibujamos otro cuadrado\n",
    "kame.penup()\n",
    "kame.goto(200, 200)\n",
    "kame.pendown()\n",
    "kame.goto(350, 200)\n",
    "kame.goto(350, 350)\n",
    "kame.goto(200, 350)\n",
    "kame.goto(200, 200)\n",
    "```"
   ]
  },
  {
   "cell_type": "markdown",
   "id": "cbc4aee8",
   "metadata": {},
   "source": [
    "## Experimentos con círculos\n",
    "\n",
    "Podemos dibujar círculos con un radio partiendo de la posición actual de la tortuga:\n",
    "\n",
    "```python\n",
    "import turtle\n",
    "\n",
    "window = turtle.Screen()\n",
    "window.title(\"Pruebas con turtle\")\n",
    "window.bgcolor(\"#68a0ed\")\n",
    "window.setup(500, 500)\n",
    "\n",
    "kame = turtle.Turtle()\n",
    "kame.shape(\"turtle\")\n",
    "kame.color(\"darkgreen\")\n",
    "kame.pensize(2)\n",
    "kame.speed(10)\n",
    "\n",
    "kame.circle(25)\n",
    "kame.circle(50)\n",
    "kame.circle(75)\n",
    "kame.circle(100)\n",
    "kame.circle(125)\n",
    "\n",
    "turtle.mainloop()\n",
    "```"
   ]
  },
  {
   "cell_type": "markdown",
   "id": "0e95d7b9",
   "metadata": {},
   "source": [
    "Si queremos cambiar la posición inicial de los círculos podemos utilizar préviamente `goto` habiendo levantado la pluma.\n",
    "\n",
    "Podemos experimentar con un pequeño script utilizando un bucle:"
   ]
  },
  {
   "cell_type": "markdown",
   "id": "d3fd75b5",
   "metadata": {},
   "source": [
    "```python\n",
    "for i in range(0, 6):\n",
    "    kame.penup()\n",
    "    kame.goto(i, -i*25)\n",
    "    kame.pendown()\n",
    "    kame.circle(i*25)\n",
    "```"
   ]
  },
  {
   "cell_type": "code",
   "execution_count": null,
   "id": "2c3d2c41",
   "metadata": {},
   "outputs": [],
   "source": []
  }
 ],
 "metadata": {
  "kernelspec": {
   "display_name": "Python 3 (ipykernel)",
   "language": "python",
   "name": "python3"
  },
  "language_info": {
   "codemirror_mode": {
    "name": "ipython",
    "version": 3
   },
   "file_extension": ".py",
   "mimetype": "text/x-python",
   "name": "python",
   "nbconvert_exporter": "python",
   "pygments_lexer": "ipython3",
   "version": "3.10.5"
  }
 },
 "nbformat": 4,
 "nbformat_minor": 5
}
